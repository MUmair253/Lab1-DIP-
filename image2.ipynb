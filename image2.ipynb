#Reading tiff image
import rasterio
from rasterio.plot import show
from PIL import Image
img = Image.open("C:\\Users\\abc\\Desktop\\Compressed\\Umair\\HH-ALPSRP247640500-H2.2_UA.tif")
show(img)
pixels = img.load()
